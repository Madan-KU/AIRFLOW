{
 "cells": [
  {
   "cell_type": "code",
   "execution_count": 1,
   "metadata": {},
   "outputs": [],
   "source": [
    "import keyring as kr\n",
    "\n",
    "def save_credentials(your_username,your_password):# Save to Windows Credential Manager\n",
    "    kr.set_password(\"sql_server\", \"username\", your_username)\n",
    "    kr.set_password(\"sql_server\", \"password\", your_password)"
   ]
  },
  {
   "cell_type": "code",
   "execution_count": 2,
   "metadata": {},
   "outputs": [],
   "source": [
    "save_credentials('PRECISION\\Home','')"
   ]
  },
  {
   "cell_type": "code",
   "execution_count": 5,
   "metadata": {},
   "outputs": [],
   "source": [
    "def return_credentials():# Retrieve the login credentials from Windows Credential Manager\n",
    "    username = kr.get_password(\"sql_server\", \"username\")\n",
    "    password = kr.get_password(\"sql_server\", \"password\")\n",
    "    return username,password"
   ]
  },
  {
   "cell_type": "code",
   "execution_count": 7,
   "metadata": {},
   "outputs": [
    {
     "data": {
      "text/plain": [
       "('PRECISION\\\\Home', '')"
      ]
     },
     "execution_count": 7,
     "metadata": {},
     "output_type": "execute_result"
    }
   ],
   "source": [
    "username,password=return_credentials()\n",
    "username,password"
   ]
  }
 ],
 "metadata": {
  "kernelspec": {
   "display_name": "base",
   "language": "python",
   "name": "python3"
  },
  "language_info": {
   "codemirror_mode": {
    "name": "ipython",
    "version": 3
   },
   "file_extension": ".py",
   "mimetype": "text/x-python",
   "name": "python",
   "nbconvert_exporter": "python",
   "pygments_lexer": "ipython3",
   "version": "3.11.4"
  }
 },
 "nbformat": 4,
 "nbformat_minor": 2
}
